{
  "nbformat": 4,
  "nbformat_minor": 0,
  "metadata": {
    "colab": {
      "provenance": [],
      "authorship_tag": "ABX9TyNyrcT3rCg8B4v4D22HPm4u",
      "include_colab_link": true
    },
    "kernelspec": {
      "name": "python3",
      "display_name": "Python 3"
    },
    "language_info": {
      "name": "python"
    }
  },
  "cells": [
    {
      "cell_type": "markdown",
      "metadata": {
        "id": "view-in-github",
        "colab_type": "text"
      },
      "source": [
        "<a href=\"https://colab.research.google.com/github/Vicheka6363/Fruit_Classification_Using_CNN/blob/main/TrainingProcessing.ipynb\" target=\"_parent\"><img src=\"https://colab.research.google.com/assets/colab-badge.svg\" alt=\"Open In Colab\"/></a>"
      ]
    },
    {
      "cell_type": "markdown",
      "source": [
        "#Importing Dataset"
      ],
      "metadata": {
        "id": "s-_cF4-oojvr"
      }
    },
    {
      "cell_type": "code",
      "source": [
        "from google.colab import drive\n",
        "drive.mount('/content/drive')"
      ],
      "metadata": {
        "colab": {
          "base_uri": "https://localhost:8080/"
        },
        "id": "BuIUpio9osIy",
        "outputId": "60c50d03-f311-452e-99eb-d8ff137616f1"
      },
      "execution_count": null,
      "outputs": [
        {
          "output_type": "stream",
          "name": "stdout",
          "text": [
            "Mounted at /content/drive\n"
          ]
        }
      ]
    },
    {
      "cell_type": "markdown",
      "source": [
        "[Link for download data set(https://www.kaggle.com/datasets/moltean/fruits)]"
      ],
      "metadata": {
        "id": "NBRlTcBMwxVp"
      }
    },
    {
      "cell_type": "markdown",
      "source": [
        "#Importing Libraries"
      ],
      "metadata": {
        "id": "7bDh3gaHpL7L"
      }
    },
    {
      "cell_type": "code",
      "source": [
        "import tensorflow as tf\n",
        "import matplotlib.pyplot as plt"
      ],
      "metadata": {
        "id": "2pxIxipppWUn"
      },
      "execution_count": null,
      "outputs": []
    },
    {
      "cell_type": "markdown",
      "source": [
        "#Data Preprocessing"
      ],
      "metadata": {
        "id": "PKurXNvKpjzM"
      }
    },
    {
      "cell_type": "markdown",
      "source": [
        "Data Preprocessing : we need\n",
        "\n",
        "\n",
        "*   Validation data: is used for model training.\n",
        "*   Test data: is used for model testing.\n",
        "*   For model training we need training dataset and validation dataset.\n",
        "* For model testing when our model is trained and we need to see whether our model is working right. we want to do some prediction then we use test data.\n",
        "\n"
      ],
      "metadata": {
        "id": "oUoPw8P7qT4M"
      }
    },
    {
      "cell_type": "markdown",
      "source": [
        "Training Image Preprocessing"
      ],
      "metadata": {
        "id": "Rczw27sYpsOi"
      }
    },
    {
      "cell_type": "code",
      "source": [
        "training_set = tf.keras.utils.image_dataset_from_directory(\n",
        "    '/content/drive/MyDrive/fruits-360-original-size/Training',\n",
        "    labels=\"inferred\",\n",
        "    label_mode=\"categorical\",\n",
        "    class_names=None,\n",
        "    color_mode=\"rgb\",\n",
        "    batch_size=32,\n",
        "    image_size=(64, 64),\n",
        "    shuffle=True,\n",
        "    seed=None,\n",
        "    validation_split=None,\n",
        "    subset=None,\n",
        "    interpolation=\"bilinear\",\n",
        "    follow_links=False,\n",
        "    crop_to_aspect_ratio=False\n",
        ")"
      ],
      "metadata": {
        "colab": {
          "base_uri": "https://localhost:8080/"
        },
        "id": "itS26rNBpn5m",
        "outputId": "84988355-062e-4b4a-9355-c4c932caee5a"
      },
      "execution_count": null,
      "outputs": [
        {
          "output_type": "stream",
          "name": "stdout",
          "text": [
            "Found 6240 files belonging to 24 classes.\n"
          ]
        }
      ]
    },
    {
      "cell_type": "markdown",
      "source": [
        "Validation Image Preprocessing"
      ],
      "metadata": {
        "id": "jBSDdofEqvnZ"
      }
    },
    {
      "cell_type": "code",
      "source": [
        "validation_set = tf.keras.utils.image_dataset_from_directory(\n",
        "    '/content/drive/MyDrive/fruits-360-original-size/Validation',\n",
        "    labels=\"inferred\",\n",
        "    label_mode=\"categorical\",\n",
        "    class_names=None,\n",
        "    color_mode=\"rgb\",\n",
        "    batch_size=32,\n",
        "    image_size=(64, 64),\n",
        "    shuffle=True,\n",
        "    seed=None,\n",
        "    validation_split=None,\n",
        "    subset=None,\n",
        "    interpolation=\"bilinear\",\n",
        "    follow_links=False,\n",
        "    crop_to_aspect_ratio=False\n",
        ")"
      ],
      "metadata": {
        "colab": {
          "base_uri": "https://localhost:8080/"
        },
        "id": "QNmTu9gSq5de",
        "outputId": "032165b6-338f-43df-f8b9-39f906384ae9"
      },
      "execution_count": null,
      "outputs": [
        {
          "output_type": "stream",
          "name": "stdout",
          "text": [
            "Found 3116 files belonging to 24 classes.\n"
          ]
        }
      ]
    },
    {
      "cell_type": "markdown",
      "source": [
        "\n",
        "\n",
        "---\n",
        "\n",
        "\n",
        "\n",
        "---\n",
        "\n",
        "\n",
        "\n",
        "---\n",
        "\n",
        "\n",
        "Training and Validation Image Preprocessing:\n",
        "Some specific poins in Code:\n",
        "\n",
        "*   We pass parameter \" inferred\" to class labels because we have many labels of dataset that are folder that store each type of fruit like apple, banana, orange ... .\n",
        "*   we pass parameter \" categorical\" to class labels_mode because we have more than two classes ( the folder in the directory form), if we don't have any classes we paste \t\t    \"None\" for it. If we have only one class then we paste it as \"int\" . If we have only two classes we paste it as \"Binary\".\n",
        "*class_names : we have assigned it as \" None\" since we have to cotrol all classes in order.\n",
        "*color_mode: we have assigned as \"rgb\" that converted image as default that have 3 channel of color.\n",
        "*batch_size : Size of batches of data as default :32\n",
        "*image_size:(64, 64) size to resize images to after they are read from disk, specified as ` (hieght, width) `. Defaults to `(256, 256). but in the code we just assigned it to (64, 64) because we want to take only important part of the image not all the image detail.\n",
        "*shuffle : whether to shuffle the data. Default: true. If it set to False, sorts the data in alphanumeric order.\n",
        "*seed: optional random seed for shuffling and transformation.\n",
        "*validation_split: optional flaot between 0 and 1, fraction of data to reserve for validation.\n",
        "*subset: Subset of the data to return.\n",
        "*interpolation: String, the interpolation method used when resizing images.\n",
        "\n",
        "---\n",
        "\n",
        "\n",
        "\n",
        "---\n",
        "\n",
        "\n"
      ],
      "metadata": {
        "id": "Sekbl6JpsbL9"
      }
    },
    {
      "cell_type": "markdown",
      "source": [
        "#Building Model"
      ],
      "metadata": {
        "id": "8X_9f4xfwXHR"
      }
    },
    {
      "cell_type": "code",
      "source": [
        "cnn = tf.keras.models.Sequential()"
      ],
      "metadata": {
        "id": "DmpWLMs4wfPs"
      },
      "execution_count": null,
      "outputs": []
    },
    {
      "cell_type": "markdown",
      "source": [
        "Building Convolution Layer"
      ],
      "metadata": {
        "id": "-XDUFcvE4SWC"
      }
    },
    {
      "cell_type": "code",
      "source": [
        "cnn.add(tf.keras.layers.Conv2D(filters=16,kernel_size=3,padding='same',activation='relu',input_shape=[64,64,3]))\n",
        "cnn.add(tf.keras.layers.Conv2D(filters=16,kernel_size=3,activation='relu'))\n",
        "cnn.add(tf.keras.layers.MaxPool2D(pool_size=2,strides=2))"
      ],
      "metadata": {
        "id": "gE6R7fR4w6en"
      },
      "execution_count": null,
      "outputs": []
    },
    {
      "cell_type": "code",
      "source": [
        "cnn.add(tf.keras.layers.Dropout(0.25))"
      ],
      "metadata": {
        "id": "jG_3YR954dSA"
      },
      "execution_count": null,
      "outputs": []
    },
    {
      "cell_type": "code",
      "source": [
        "cnn.add(tf.keras.layers.Conv2D(filters=32,kernel_size=3,padding='same',activation='relu'))\n",
        "cnn.add(tf.keras.layers.Conv2D(filters=32,kernel_size=3,activation='relu'))\n",
        "cnn.add(tf.keras.layers.MaxPool2D(pool_size=2,strides=2))"
      ],
      "metadata": {
        "id": "Mmoe8iZ14nBT"
      },
      "execution_count": null,
      "outputs": []
    },
    {
      "cell_type": "code",
      "source": [
        "cnn.add(tf.keras.layers.Dropout(0.25))"
      ],
      "metadata": {
        "id": "F_g5Akmv46EL"
      },
      "execution_count": null,
      "outputs": []
    },
    {
      "cell_type": "code",
      "source": [
        "cnn.add(tf.keras.layers.Conv2D(filters=64,kernel_size=3,padding='same',activation='relu'))\n",
        "cnn.add(tf.keras.layers.Conv2D(filters=64,kernel_size=3,activation='relu'))\n",
        "cnn.add(tf.keras.layers.MaxPool2D(pool_size=2,strides=2))"
      ],
      "metadata": {
        "id": "Xp2XeGh3VyLC"
      },
      "execution_count": null,
      "outputs": []
    },
    {
      "cell_type": "code",
      "source": [
        "cnn.add(tf.keras.layers.Dropout(0.25))"
      ],
      "metadata": {
        "id": "FM-fWM75V80l"
      },
      "execution_count": null,
      "outputs": []
    },
    {
      "cell_type": "code",
      "source": [
        "cnn.add(tf.keras.layers.Flatten())"
      ],
      "metadata": {
        "id": "LuBPufIk48tH"
      },
      "execution_count": null,
      "outputs": []
    },
    {
      "cell_type": "code",
      "source": [
        "cnn.add(tf.keras.layers.Dense(units=64,activation='relu'))"
      ],
      "metadata": {
        "id": "spv7dWIZVi3m"
      },
      "execution_count": null,
      "outputs": []
    },
    {
      "cell_type": "code",
      "source": [
        "cnn.add(tf.keras.layers.Dense(units=512,activation='relu'))"
      ],
      "metadata": {
        "id": "yMH9unEF4_Tl"
      },
      "execution_count": null,
      "outputs": []
    },
    {
      "cell_type": "code",
      "source": [
        "cnn.add(tf.keras.layers.Dense(units=256,activation='relu'))"
      ],
      "metadata": {
        "id": "2eGkEPTqgHyd"
      },
      "execution_count": null,
      "outputs": []
    },
    {
      "cell_type": "code",
      "source": [
        "cnn.add(tf.keras.layers.Dropout(0.5)) #To avoid overfitting"
      ],
      "metadata": {
        "id": "JZEsMsFN92BT"
      },
      "execution_count": null,
      "outputs": []
    },
    {
      "cell_type": "code",
      "source": [
        "cnn.add(tf.keras.layers.Flatten())"
      ],
      "metadata": {
        "id": "t6sDU-OaxtMZ"
      },
      "execution_count": null,
      "outputs": []
    },
    {
      "cell_type": "code",
      "source": [
        "#Output Layer\n",
        "cnn.add(tf.keras.layers.Dense(units=24,activation='softmax'))"
      ],
      "metadata": {
        "id": "vq2tOTbuAAF9"
      },
      "execution_count": null,
      "outputs": []
    },
    {
      "cell_type": "markdown",
      "source": [
        "\n",
        "\n",
        "---\n",
        "\n",
        "\n",
        "Building Model: building convolution layer\\\n",
        "Convolution neural network consists of different layers: Convolutions Layer, Pooling Layer, and Fully Connected Layer.\n",
        "there is a certain hyper parameter that use filters which scan the input image and do some computation and store the important feature in a separate Matrix. This process help to decrease size of image and also focus on important feature of that image.\n",
        "\n",
        "1.   convolution layer:there is a certain hyper parameter that use filters which scan the input image and do some computation and store the important feature in a separate Matrix. This process help to decrease size of image and also focus on important feature of that image.\n",
        "2.   Pooling Layer: There are two types of pooling : Max pooling and Average pooling.\n",
        "\t\t- In max pooling we scan whatever we get fro the convolution layer and try to get the maximum value from the 2 cross 2 matrix that we have and then store that maximum vlue into separate Matrix.\n",
        "\t\t- In average pooling we try to get the average value of the 2 cross 2 matrix and store it in separate matrix.\n",
        "\n",
        "3.Fully connected layer:  is convert the 2 cross 2 matrix to a vertical manner that it's flattening the output where each input is connected to all neurons.\n",
        "\n",
        "4.Coding Points:\n",
        "\n",
        "\n",
        "*   filter = 64 : is the value that is the most recommended , that give the good result.\n",
        "*   kernal_size = 3 : is the value that is working in almost neural network.\n",
        "*activation fucntion: is the something that happened in convolution layer in matrix that do some computation and storing feature in a separate matrix.\n",
        "* Commonly used activation fucntions: ReUL, Leaky ReUL, EUL. ReUL: Usually, the image is highly non-linear, which means varied pixel values. This is a scenario that is very difficult for an algorithm to make correct predictions. RELU activation function is applied in these cases to decrease the non-linearity and make the job easier.\n",
        "*pool_size, strides = 2 : we have 2 cross 2 matrix to scan the input image.\n",
        "*Dropout(0.25 or 0.5) : it is helpful to avoid underfitting and overfitting.\n",
        "*Dense(units = 512): we use dense for convert matrix into neural network and A higher number of neurons can help to learn more complex patterns in the data. However, it can also make the model more complex and difficult to train.\n",
        "*softmax is used as the activation function for multi-class classification problems where class membership is required on more than two class labels.\n",
        "\n",
        "\n",
        "\n",
        "\n",
        "\n"
      ],
      "metadata": {
        "id": "lm7b9OjAwmmE"
      }
    },
    {
      "cell_type": "markdown",
      "source": [
        "#Compilling and Training Phase"
      ],
      "metadata": {
        "id": "3VXpPyexHJup"
      }
    },
    {
      "cell_type": "code",
      "source": [
        "cnn.compile(optimizer='adam',loss='categorical_crossentropy',metrics=['accuracy'])"
      ],
      "metadata": {
        "id": "oPSUK-zXALWV"
      },
      "execution_count": null,
      "outputs": []
    },
    {
      "cell_type": "code",
      "source": [
        "training_history = cnn.fit(x=training_set,validation_data=validation_set,epochs=20)"
      ],
      "metadata": {
        "colab": {
          "base_uri": "https://localhost:8080/"
        },
        "id": "G6Pz35mhQblM",
        "outputId": "b0c3ea78-bd86-4630-8c06-9971f406f4ca"
      },
      "execution_count": null,
      "outputs": [
        {
          "output_type": "stream",
          "name": "stdout",
          "text": [
            "Epoch 1/20\n",
            "195/195 [==============================] - 295s 2s/step - loss: 2.3037 - accuracy: 0.2675 - val_loss: 0.7954 - val_accuracy: 0.7054\n",
            "Epoch 2/20\n",
            "195/195 [==============================] - 111s 566ms/step - loss: 0.7152 - accuracy: 0.7321 - val_loss: 0.3291 - val_accuracy: 0.8575\n",
            "Epoch 3/20\n",
            "195/195 [==============================] - 118s 603ms/step - loss: 0.4367 - accuracy: 0.8340 - val_loss: 0.1746 - val_accuracy: 0.9204\n",
            "Epoch 4/20\n",
            "195/195 [==============================] - 113s 578ms/step - loss: 0.2309 - accuracy: 0.9163 - val_loss: 0.1131 - val_accuracy: 0.9625\n",
            "Epoch 5/20\n",
            "195/195 [==============================] - 112s 571ms/step - loss: 0.1967 - accuracy: 0.9340 - val_loss: 0.1011 - val_accuracy: 0.9740\n",
            "Epoch 6/20\n",
            "195/195 [==============================] - 114s 584ms/step - loss: 0.1702 - accuracy: 0.9405 - val_loss: 0.0854 - val_accuracy: 0.9557\n",
            "Epoch 7/20\n",
            "195/195 [==============================] - 120s 614ms/step - loss: 0.1704 - accuracy: 0.9402 - val_loss: 0.1127 - val_accuracy: 0.9625\n",
            "Epoch 8/20\n",
            "195/195 [==============================] - 117s 594ms/step - loss: 0.0910 - accuracy: 0.9689 - val_loss: 0.0279 - val_accuracy: 0.9901\n",
            "Epoch 9/20\n",
            "195/195 [==============================] - 110s 559ms/step - loss: 0.1290 - accuracy: 0.9623 - val_loss: 0.0614 - val_accuracy: 0.9817\n",
            "Epoch 10/20\n",
            "195/195 [==============================] - 111s 567ms/step - loss: 0.1106 - accuracy: 0.9644 - val_loss: 0.0713 - val_accuracy: 0.9727\n",
            "Epoch 11/20\n",
            "195/195 [==============================] - 110s 563ms/step - loss: 0.0745 - accuracy: 0.9772 - val_loss: 0.0239 - val_accuracy: 0.9974\n",
            "Epoch 12/20\n",
            "195/195 [==============================] - 111s 563ms/step - loss: 0.0525 - accuracy: 0.9840 - val_loss: 0.0293 - val_accuracy: 0.9907\n",
            "Epoch 13/20\n",
            "195/195 [==============================] - 112s 568ms/step - loss: 0.0834 - accuracy: 0.9758 - val_loss: 0.0915 - val_accuracy: 0.9596\n",
            "Epoch 14/20\n",
            "195/195 [==============================] - 109s 552ms/step - loss: 0.0671 - accuracy: 0.9792 - val_loss: 0.0221 - val_accuracy: 0.9933\n",
            "Epoch 15/20\n",
            "195/195 [==============================] - 109s 554ms/step - loss: 0.0613 - accuracy: 0.9809 - val_loss: 0.0503 - val_accuracy: 0.9888\n",
            "Epoch 16/20\n",
            "195/195 [==============================] - 113s 577ms/step - loss: 0.0469 - accuracy: 0.9851 - val_loss: 0.0027 - val_accuracy: 0.9990\n",
            "Epoch 17/20\n",
            "195/195 [==============================] - 111s 566ms/step - loss: 0.0986 - accuracy: 0.9715 - val_loss: 0.0049 - val_accuracy: 1.0000\n",
            "Epoch 18/20\n",
            "195/195 [==============================] - 110s 563ms/step - loss: 0.0527 - accuracy: 0.9851 - val_loss: 0.0177 - val_accuracy: 0.9971\n",
            "Epoch 19/20\n",
            "195/195 [==============================] - 113s 577ms/step - loss: 0.0827 - accuracy: 0.9748 - val_loss: 0.0641 - val_accuracy: 0.9734\n",
            "Epoch 20/20\n",
            "195/195 [==============================] - 109s 557ms/step - loss: 0.0352 - accuracy: 0.9873 - val_loss: 0.0056 - val_accuracy: 0.9984\n"
          ]
        }
      ]
    },
    {
      "cell_type": "markdown",
      "source": [
        "#Saving Model"
      ],
      "metadata": {
        "id": "eXsMvI7hdFuO"
      }
    },
    {
      "cell_type": "code",
      "source": [
        "cnn.save('trained_model.h5')  ## we save train model in to h5 file structure"
      ],
      "metadata": {
        "id": "iraNsLoqQi8s"
      },
      "execution_count": null,
      "outputs": []
    },
    {
      "cell_type": "markdown",
      "source": [
        "recording history of trained data"
      ],
      "metadata": {
        "id": "IcmkVXgxfY4S"
      }
    },
    {
      "cell_type": "code",
      "source": [
        "training_history.history"
      ],
      "metadata": {
        "colab": {
          "base_uri": "https://localhost:8080/"
        },
        "id": "LjI8j61fePhw",
        "outputId": "82ab18d1-aa41-48b6-c105-02a44ecaf522"
      },
      "execution_count": null,
      "outputs": [
        {
          "output_type": "execute_result",
          "data": {
            "text/plain": [
              "{'loss': [2.303729295730591,\n",
              "  0.7151781916618347,\n",
              "  0.4367083013057709,\n",
              "  0.23085935413837433,\n",
              "  0.1966841071844101,\n",
              "  0.17018291354179382,\n",
              "  0.1703886240720749,\n",
              "  0.09099088609218597,\n",
              "  0.12896448373794556,\n",
              "  0.1105974018573761,\n",
              "  0.07454158365726471,\n",
              "  0.05250665545463562,\n",
              "  0.08335532993078232,\n",
              "  0.06706099212169647,\n",
              "  0.06131099909543991,\n",
              "  0.04689576476812363,\n",
              "  0.09861985594034195,\n",
              "  0.052716609090566635,\n",
              "  0.0827028900384903,\n",
              "  0.03520945832133293],\n",
              " 'accuracy': [0.2674679458141327,\n",
              "  0.7320512533187866,\n",
              "  0.8339743614196777,\n",
              "  0.9163461327552795,\n",
              "  0.9339743852615356,\n",
              "  0.940544843673706,\n",
              "  0.9402243494987488,\n",
              "  0.968910276889801,\n",
              "  0.9623397588729858,\n",
              "  0.9644230604171753,\n",
              "  0.9772436022758484,\n",
              "  0.9839743375778198,\n",
              "  0.9758012890815735,\n",
              "  0.9791666865348816,\n",
              "  0.9809294939041138,\n",
              "  0.9850961565971375,\n",
              "  0.9714743494987488,\n",
              "  0.9850961565971375,\n",
              "  0.9748397469520569,\n",
              "  0.9873397350311279],\n",
              " 'val_loss': [0.7954239249229431,\n",
              "  0.3291213810443878,\n",
              "  0.17460109293460846,\n",
              "  0.11311197280883789,\n",
              "  0.1011338010430336,\n",
              "  0.0853675901889801,\n",
              "  0.1126859113574028,\n",
              "  0.0279112346470356,\n",
              "  0.06138220429420471,\n",
              "  0.07132962346076965,\n",
              "  0.02385786361992359,\n",
              "  0.029310235753655434,\n",
              "  0.09150377660989761,\n",
              "  0.022064903751015663,\n",
              "  0.05030566826462746,\n",
              "  0.002653813688084483,\n",
              "  0.0049001374281942844,\n",
              "  0.017732281237840652,\n",
              "  0.06414704024791718,\n",
              "  0.005626721773296595],\n",
              " 'val_accuracy': [0.705391526222229,\n",
              "  0.8575096130371094,\n",
              "  0.9204108119010925,\n",
              "  0.9624518752098083,\n",
              "  0.9740051627159119,\n",
              "  0.9557124376296997,\n",
              "  0.9624518752098083,\n",
              "  0.9900513291358948,\n",
              "  0.9817073345184326,\n",
              "  0.9727214574813843,\n",
              "  0.9974325895309448,\n",
              "  0.990693211555481,\n",
              "  0.9595635533332825,\n",
              "  0.9932605624198914,\n",
              "  0.9887676239013672,\n",
              "  0.9990372061729431,\n",
              "  1.0,\n",
              "  0.9971116781234741,\n",
              "  0.9733632802963257,\n",
              "  0.9983953833580017]}"
            ]
          },
          "metadata": {},
          "execution_count": 44
        }
      ]
    },
    {
      "cell_type": "code",
      "source": [
        "#Recording History in json\n",
        "import json\n",
        "with open('training_hist.json','w') as f:\n",
        "  json.dump(training_history.history,f)"
      ],
      "metadata": {
        "id": "aCDv4kYYf8sV"
      },
      "execution_count": null,
      "outputs": []
    },
    {
      "cell_type": "code",
      "source": [
        "print(training_history.history.keys())"
      ],
      "metadata": {
        "colab": {
          "base_uri": "https://localhost:8080/"
        },
        "id": "akvxXEixldGR",
        "outputId": "757651c5-3354-4006-8dd9-95f7baeef09c"
      },
      "execution_count": null,
      "outputs": [
        {
          "output_type": "stream",
          "name": "stdout",
          "text": [
            "dict_keys(['loss', 'accuracy', 'val_loss', 'val_accuracy'])\n"
          ]
        }
      ]
    },
    {
      "cell_type": "markdown",
      "source": [
        "Calculating Accuracy of Model Achieved on Validation set"
      ],
      "metadata": {
        "id": "9L63XFfWlkwf"
      }
    },
    {
      "cell_type": "code",
      "source": [
        "training_history.history['val_accuracy']"
      ],
      "metadata": {
        "colab": {
          "base_uri": "https://localhost:8080/"
        },
        "id": "_F7GSRe7l6PR",
        "outputId": "564b6e81-545d-400d-9fd2-a2fef302eaf9"
      },
      "execution_count": null,
      "outputs": [
        {
          "output_type": "execute_result",
          "data": {
            "text/plain": [
              "[0.705391526222229,\n",
              " 0.8575096130371094,\n",
              " 0.9204108119010925,\n",
              " 0.9624518752098083,\n",
              " 0.9740051627159119,\n",
              " 0.9557124376296997,\n",
              " 0.9624518752098083,\n",
              " 0.9900513291358948,\n",
              " 0.9817073345184326,\n",
              " 0.9727214574813843,\n",
              " 0.9974325895309448,\n",
              " 0.990693211555481,\n",
              " 0.9595635533332825,\n",
              " 0.9932605624198914,\n",
              " 0.9887676239013672,\n",
              " 0.9990372061729431,\n",
              " 1.0,\n",
              " 0.9971116781234741,\n",
              " 0.9733632802963257,\n",
              " 0.9983953833580017]"
            ]
          },
          "metadata": {},
          "execution_count": 47
        }
      ]
    },
    {
      "cell_type": "code",
      "source": [
        "# print the last one of the accuracy\n",
        "print(\"Validation set Accuracy: {} \".format(training_history.history['val_accuracy'][-1]))"
      ],
      "metadata": {
        "colab": {
          "base_uri": "https://localhost:8080/"
        },
        "id": "kaI7QhWtmhVh",
        "outputId": "52ee72f3-0564-406d-e0b5-4fdf3cbf1655"
      },
      "execution_count": null,
      "outputs": [
        {
          "output_type": "stream",
          "name": "stdout",
          "text": [
            "Validation set Accuracy: 0.9983953833580017 \n"
          ]
        }
      ]
    },
    {
      "cell_type": "code",
      "source": [
        "print(\"Validation set Accuracy: {} %\".format(training_history.history['val_accuracy'][-1]*100))"
      ],
      "metadata": {
        "colab": {
          "base_uri": "https://localhost:8080/"
        },
        "id": "pDvakc2Slf9L",
        "outputId": "bbc44797-0254-477a-d1cd-eb12b9bd3a22"
      },
      "execution_count": null,
      "outputs": [
        {
          "output_type": "stream",
          "name": "stdout",
          "text": [
            "Validation set Accuracy: 99.83953833580017 %\n"
          ]
        }
      ]
    },
    {
      "cell_type": "markdown",
      "source": [
        "#Accuracy Visualization"
      ],
      "metadata": {
        "id": "GAglZcBqr2a7"
      }
    },
    {
      "cell_type": "markdown",
      "source": [
        "Training Visualization"
      ],
      "metadata": {
        "id": "OEvee2p8sEPi"
      }
    },
    {
      "cell_type": "code",
      "source": [
        "#training_history.history['accuracy']\n",
        "epochs = [i for i in range(1,21)]\n",
        "plt.plot(epochs,training_history.history['accuracy'],color='red')\n",
        "plt.xlabel('No. of Epochs')\n",
        "plt.ylabel('Traiining Accuracy')\n",
        "plt.title('Visualization of Training Accuracy Result')\n",
        "plt.show()"
      ],
      "metadata": {
        "colab": {
          "base_uri": "https://localhost:8080/",
          "height": 472
        },
        "id": "XuWiuiWZreeW",
        "outputId": "0ca03a77-29e7-45a5-8382-fff9ac19a602"
      },
      "execution_count": null,
      "outputs": [
        {
          "output_type": "display_data",
          "data": {
            "text/plain": [
              "<Figure size 640x480 with 1 Axes>"
            ],
            "image/png": "[encoded data removed]"
          },
          "metadata": {}
        }
      ]
    },
    {
      "cell_type": "markdown",
      "source": [
        "Validation Accuracy"
      ],
      "metadata": {
        "id": "U95RUE5HsmHO"
      }
    },
    {
      "cell_type": "code",
      "source": [
        "plt.plot(epochs,training_history.history['val_accuracy'],color='blue')\n",
        "plt.xlabel('No. of Epochs')\n",
        "plt.ylabel('Validation Accuracy')\n",
        "plt.title('Visualization of Validation Accuracy Result')\n",
        "plt.show()"
      ],
      "metadata": {
        "colab": {
          "base_uri": "https://localhost:8080/",
          "height": 472
        },
        "id": "MMIV9ItHrx1N",
        "outputId": "d11eff12-d63d-4a61-d2c2-6a1b8c7e55c2"
      },
      "execution_count": null,
      "outputs": [
        {
          "output_type": "display_data",
          "data": {
            "text/plain": [
              "<Figure size 640x480 with 1 Axes>"
            ],
            "image/png": "[encoded data removed]"
          },
          "metadata": {}
        }
      ]
    },
    {
      "cell_type": "markdown",
      "source": [
        "#Evaluating Model"
      ],
      "metadata": {
        "id": "AqUiPQyDvyv9"
      }
    },
    {
      "cell_type": "markdown",
      "source": [
        "Training set Accuracy"
      ],
      "metadata": {
        "id": "byZdlDzEv72E"
      }
    },
    {
      "cell_type": "code",
      "source": [
        "train_loss, train_acc = cnn.evaluate(training_set)\n",
        "print('Training accuracy:', train_acc)"
      ],
      "metadata": {
        "colab": {
          "base_uri": "https://localhost:8080/"
        },
        "id": "p6aZ63wOwEIr",
        "outputId": "64dd0dfe-436c-4855-8e91-6fd59501f515"
      },
      "execution_count": null,
      "outputs": [
        {
          "output_type": "stream",
          "name": "stdout",
          "text": [
            "195/195 [==============================] - 34s 170ms/step - loss: 0.0052 - accuracy: 0.9990\n",
            "Training accuracy: 0.9990384578704834\n"
          ]
        }
      ]
    },
    {
      "cell_type": "markdown",
      "source": [
        "Validation set Accuracy"
      ],
      "metadata": {
        "id": "qdfL0KfsweS1"
      }
    },
    {
      "cell_type": "code",
      "source": [
        "val_loss, val_acc = cnn.evaluate(validation_set)\n",
        "print('Validation accuracy:', val_acc)"
      ],
      "metadata": {
        "colab": {
          "base_uri": "https://localhost:8080/"
        },
        "id": "R28k-pUJwj8y",
        "outputId": "cfb5b449-1c81-41a4-cb78-6350938bb0ef"
      },
      "execution_count": null,
      "outputs": [
        {
          "output_type": "stream",
          "name": "stdout",
          "text": [
            "33/98 [=========>....................] - ETA: 12s - loss: 0.0058 - accuracy: 0.9981"
          ]
        }
      ]
    },
    {
      "cell_type": "markdown",
      "source": [
        "#Reference"
      ],
      "metadata": {
        "id": "BaX-4-sx9swM"
      }
    },
    {
      "cell_type": "markdown",
      "source": [
        "Loading image(https://keras.io/api/data_loading/image/)"
      ],
      "metadata": {
        "id": "xSzBR2Gv9wGD"
      }
    },
    {
      "cell_type": "markdown",
      "source": [
        "Keras API:(https://keras.io/api/)"
      ],
      "metadata": {
        "id": "vHeIVMvC-IIL"
      }
    },
    {
      "cell_type": "markdown",
      "source": [
        "YouTube Video:(https://colab.research.google.com/drive/17kETWVFmRHi51eqZrrzhT1abUrjaH_VW#scrollTo=CKojr1SV-X76&line=1&uniqifier=1)"
      ],
      "metadata": {
        "id": "DTMkhrSl-xN-"
      }
    },
    {
      "cell_type": "code",
      "source": [],
      "metadata": {
        "id": "kQsvgS5Z-8xp"
      },
      "execution_count": null,
      "outputs": []
    }
  ]
}